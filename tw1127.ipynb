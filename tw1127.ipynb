{
  "nbformat": 4,
  "nbformat_minor": 0,
  "metadata": {
    "colab": {
      "name": "tw1127.ipynb",
      "provenance": [],
      "collapsed_sections": [],
      "include_colab_link": true
    },
    "kernelspec": {
      "name": "python3",
      "display_name": "Python 3"
    },
    "language_info": {
      "name": "python"
    }
  },
  "cells": [
    {
      "cell_type": "markdown",
      "metadata": {
        "id": "view-in-github",
        "colab_type": "text"
      },
      "source": [
        "<a href=\"https://colab.research.google.com/github/nowkoai/twnow/blob/main/tw1127.ipynb\" target=\"_parent\"><img src=\"https://colab.research.google.com/assets/colab-badge.svg\" alt=\"Open In Colab\"/></a>"
      ]
    },
    {
      "cell_type": "markdown",
      "metadata": {
        "id": "jQF4oOdKY2nH"
      },
      "source": [
        "### ① Twitterで指定キーワードの検索結果を収集"
      ]
    },
    {
      "cell_type": "code",
      "metadata": {
        "id": "ueplAiqTzX6y"
      },
      "source": [
        "import tweepy\n",
        "import pandas as pd\n",
        "import datetime"
      ],
      "execution_count": 1,
      "outputs": []
    },
    {
      "cell_type": "code",
      "metadata": {
        "id": "aLb4itFRzbN5"
      },
      "source": [
        "###########################################################\n",
        "# TwitterのAPIキー\n",
        "CONSUMER_KEY=\"CONSUMER_KEYを入力\"\n",
        "CONSUMER_SECRET=\"CONSUMER_SECRETを入力\"\n",
        "ACCESS_TOKEN=\"ACCESS_TOKENを入力\"\n",
        "ACCESS_SECERET=\"ACCESS_SECERETを入力\"\n",
        "###########################################################"
      ],
      "execution_count": 2,
      "outputs": []
    },
    {
      "cell_type": "code",
      "metadata": {
        "id": "m8bP5_Jezcmw"
      },
      "source": [
        "# Twitter APIインスタンス作成\n",
        "auth = tweepy.OAuthHandler(CONSUMER_KEY, CONSUMER_SECRET)\n",
        "auth.set_access_token(ACCESS_TOKEN, ACCESS_SECERET)\n",
        "api = tweepy.API(auth)"
      ],
      "execution_count": 3,
      "outputs": []
    },
    {
      "cell_type": "code",
      "metadata": {
        "id": "rPikEjAJzd9I"
      },
      "source": [
        "# Twitterの検索キーワード（リツィート、リプライを除く）\n",
        "q = f\"自民党 exclude:retweets -filter:replies\""
      ],
      "execution_count": 4,
      "outputs": []
    },
    {
      "cell_type": "code",
      "metadata": {
        "id": "22cWraXrzfcw"
      },
      "source": [
        "# Tweetデータを格納するリスト\n",
        "tweet_data = []\n",
        "\n",
        "# Tweetデータの取得（ID/ユーザー名/★Tweerデータ/Text/いいね数/リツィート数）\n",
        "for tweet in tweepy.Cursor(api.search, q=q, result_type='recent',locale=\"ja\",lang=\"ja\",include_entities=False,count=100).items(100):\n",
        "    tweet_data.append([tweet.id_str,\n",
        "                       tweet.user.screen_name,\n",
        "                       tweet.created_at+datetime.timedelta(hours=9),\n",
        "                       tweet.text.replace('\\n',''),\n",
        "                       tweet.favorite_count,\n",
        "                       tweet.retweet_count])"
      ],
      "execution_count": 5,
      "outputs": []
    },
    {
      "cell_type": "code",
      "metadata": {
        "id": "CvehzjTNzhJw"
      },
      "source": [
        "# カラムを280文字幅に設定\n",
        "pd.set_option(\"display.max_colwidth\", 280)"
      ],
      "execution_count": 6,
      "outputs": []
    },
    {
      "cell_type": "code",
      "metadata": {
        "id": "YBv2dbEbzmaP"
      },
      "source": [
        "# データ列名\n",
        "columns_name=[\"TW_NO\",\"USER_NAME\",\"TW_TIME\",\"TW_TEXT\",\"FAV\",\"RT\"]\n",
        "#データフレーム化\n",
        "df=pd.DataFrame(tweet_data,columns=columns_name)"
      ],
      "execution_count": 7,
      "outputs": []
    },
    {
      "cell_type": "code",
      "metadata": {
        "colab": {
          "base_uri": "https://localhost:8080/",
          "height": 770
        },
        "id": "uh7A2ZL_zok3",
        "outputId": "3b0113ce-1704-4c81-d2b5-0ff540728f89"
      },
      "source": [
        "df"
      ],
      "execution_count": 8,
      "outputs": [
        {
          "output_type": "execute_result",
          "data": {
            "text/html": [
              "<div>\n",
              "<style scoped>\n",
              "    .dataframe tbody tr th:only-of-type {\n",
              "        vertical-align: middle;\n",
              "    }\n",
              "\n",
              "    .dataframe tbody tr th {\n",
              "        vertical-align: top;\n",
              "    }\n",
              "\n",
              "    .dataframe thead th {\n",
              "        text-align: right;\n",
              "    }\n",
              "</style>\n",
              "<table border=\"1\" class=\"dataframe\">\n",
              "  <thead>\n",
              "    <tr style=\"text-align: right;\">\n",
              "      <th></th>\n",
              "      <th>TW_NO</th>\n",
              "      <th>USER_NAME</th>\n",
              "      <th>TW_TIME</th>\n",
              "      <th>TW_TEXT</th>\n",
              "      <th>FAV</th>\n",
              "      <th>RT</th>\n",
              "    </tr>\n",
              "  </thead>\n",
              "  <tbody>\n",
              "    <tr>\n",
              "      <th>0</th>\n",
              "      <td>1464800696440868869</td>\n",
              "      <td>yoshiki7111</td>\n",
              "      <td>2021-11-28 12:37:55</td>\n",
              "      <td>自民党の茂木敏充幹事長は27日、就任後初めて沖縄県を訪れた。那覇市内で開いた県連 ...リンク：https://t.co/fJ0sle1BJKタ　グ：#沖縄 #ニュース #会合 #就任後 #沖縄県 #県連幹部 #米 #自民党 #茂木敏充幹事長 #那覇市内</td>\n",
              "      <td>0</td>\n",
              "      <td>0</td>\n",
              "    </tr>\n",
              "    <tr>\n",
              "      <th>1</th>\n",
              "      <td>1464800622285590528</td>\n",
              "      <td>TwinkleProjects</td>\n",
              "      <td>2021-11-28 12:37:37</td>\n",
              "      <td>滝本太郎とヘイト団体を超えた別の異常動物と政治テロ集団もそうであるが、近年の凶悪なホモ同性愛気質の異常動物集団は、ひとつ中核派どころではなく、国民に危害を加えるような凶悪性、、罹患でパヨクが凶悪化してるのか。共産主義者が自民党… https://t.co/gNkZag4Bhy</td>\n",
              "      <td>0</td>\n",
              "      <td>0</td>\n",
              "    </tr>\n",
              "    <tr>\n",
              "      <th>2</th>\n",
              "      <td>1464800479658283008</td>\n",
              "      <td>teamtk</td>\n",
              "      <td>2021-11-28 12:37:03</td>\n",
              "      <td>「保守速報」記事がリリースされました。【自民党】福田総務会長、林外相の中国訪問に肯定的な見解「国益を守るため」「外相の職務を果たすのは当たり前のことだ」 / https://t.co/JNFDdtQpts</td>\n",
              "      <td>0</td>\n",
              "      <td>0</td>\n",
              "    </tr>\n",
              "    <tr>\n",
              "      <th>3</th>\n",
              "      <td>1464800394664550405</td>\n",
              "      <td>junsaito0529</td>\n",
              "      <td>2021-11-28 12:36:43</td>\n",
              "      <td>自分たちの世代が政界や官界の要職を占めるようになり、自民党もそれ以外の政党も、政策が劣化している気がしてならない。で、自民党を政権から追いやったとすると、「新しい資本主義」もどきではなく、本物のポンコツ政策がやってくるであろうという閉塞感。</td>\n",
              "      <td>1</td>\n",
              "      <td>0</td>\n",
              "    </tr>\n",
              "    <tr>\n",
              "      <th>4</th>\n",
              "      <td>1464800324581949449</td>\n",
              "      <td>RDVj9Aotl3kgCJb</td>\n",
              "      <td>2021-11-28 12:36:26</td>\n",
              "      <td>自助(自民党が助ける)、共助(共産党が助ける)、公助(公明党が助ける)あるのは、2番目の共助の共産党の助けだけ！😡👊 https://t.co/pPRP2bkZm0</td>\n",
              "      <td>0</td>\n",
              "      <td>0</td>\n",
              "    </tr>\n",
              "    <tr>\n",
              "      <th>...</th>\n",
              "      <td>...</td>\n",
              "      <td>...</td>\n",
              "      <td>...</td>\n",
              "      <td>...</td>\n",
              "      <td>...</td>\n",
              "      <td>...</td>\n",
              "    </tr>\n",
              "    <tr>\n",
              "      <th>95</th>\n",
              "      <td>1464795720322408454</td>\n",
              "      <td>Fragile1973</td>\n",
              "      <td>2021-11-28 12:18:08</td>\n",
              "      <td>野党がひどすぎるもんな » なぜ若者は自民党に投票するのか？～2021衆院選～ | NHK政治マガジン https://t.co/j9ZKBEfsU8</td>\n",
              "      <td>0</td>\n",
              "      <td>0</td>\n",
              "    </tr>\n",
              "    <tr>\n",
              "      <th>96</th>\n",
              "      <td>1464795664802402304</td>\n",
              "      <td>TOKYO_MOOMIN</td>\n",
              "      <td>2021-11-28 12:17:55</td>\n",
              "      <td>自民党事態がもう迷惑でしかないし…(-｡-;💢 #岸田内閣早期退陣</td>\n",
              "      <td>2</td>\n",
              "      <td>0</td>\n",
              "    </tr>\n",
              "    <tr>\n",
              "      <th>97</th>\n",
              "      <td>1464795565913378820</td>\n",
              "      <td>tama2354</td>\n",
              "      <td>2021-11-28 12:17:32</td>\n",
              "      <td>しかし自民党政治から「利権」を無くすと何か残るのかな🙄</td>\n",
              "      <td>0</td>\n",
              "      <td>0</td>\n",
              "    </tr>\n",
              "    <tr>\n",
              "      <th>98</th>\n",
              "      <td>1464795548062412802</td>\n",
              "      <td>mtwpdtwj98389</td>\n",
              "      <td>2021-11-28 12:17:27</td>\n",
              "      <td>仕方ないよ。自民党が政権運営してるんだから。分配だの成長だの言ってるけど、下級国民からは巻き上げて、上級お友だちにしか金を配る気無いからね。自民党に投票したなら自業自得だけどね😎手取り14万円「正社員なのに貧困」苦悩する… https://t.co/ZbgVfJwEYw</td>\n",
              "      <td>1</td>\n",
              "      <td>0</td>\n",
              "    </tr>\n",
              "    <tr>\n",
              "      <th>99</th>\n",
              "      <td>1464795539761876993</td>\n",
              "      <td>ompfarm</td>\n",
              "      <td>2021-11-28 12:17:25</td>\n",
              "      <td>最近、所属していた政党名が附されない記事が多いような気がしたりして。２００７年８月自民党副幹事長、参議院総務委員長。２００９年自民党離党して、新党改革の党事務総長。２０１７年４月の春の叙勲で、旭日重光章。香川県丸亀市出身。 https://t.co/TNndcDSOwf</td>\n",
              "      <td>2</td>\n",
              "      <td>5</td>\n",
              "    </tr>\n",
              "  </tbody>\n",
              "</table>\n",
              "<p>100 rows × 6 columns</p>\n",
              "</div>"
            ],
            "text/plain": [
              "                  TW_NO        USER_NAME  ... FAV RT\n",
              "0   1464800696440868869      yoshiki7111  ...   0  0\n",
              "1   1464800622285590528  TwinkleProjects  ...   0  0\n",
              "2   1464800479658283008           teamtk  ...   0  0\n",
              "3   1464800394664550405     junsaito0529  ...   1  0\n",
              "4   1464800324581949449  RDVj9Aotl3kgCJb  ...   0  0\n",
              "..                  ...              ...  ...  .. ..\n",
              "95  1464795720322408454      Fragile1973  ...   0  0\n",
              "96  1464795664802402304     TOKYO_MOOMIN  ...   2  0\n",
              "97  1464795565913378820         tama2354  ...   0  0\n",
              "98  1464795548062412802    mtwpdtwj98389  ...   1  0\n",
              "99  1464795539761876993          ompfarm  ...   2  5\n",
              "\n",
              "[100 rows x 6 columns]"
            ]
          },
          "metadata": {},
          "execution_count": 8
        }
      ]
    },
    {
      "cell_type": "code",
      "metadata": {
        "id": "zBZU8D5_zpnP"
      },
      "source": [
        "\n"
      ],
      "execution_count": 8,
      "outputs": []
    },
    {
      "cell_type": "markdown",
      "metadata": {
        "id": "UmLoaTnvZBAv"
      },
      "source": [
        "### ② Google Drive上に保存する"
      ]
    },
    {
      "cell_type": "code",
      "metadata": {
        "colab": {
          "base_uri": "https://localhost:8080/"
        },
        "id": "Il-UhNduay8V",
        "outputId": "4cd9c329-f2f3-43f4-87db-b184c2cc2cc8"
      },
      "source": [
        "# Googleドライブをマウント\n",
        "# ★実行すると認証用のURLが表示される → クリックしてアクセス許可の確認すると認証用のコードが表示される\n",
        "# → その認証コードを空欄テキストボックスにコピーして、リターンを押すと認証完了して、Googleドライブにアクセスできます！\n",
        "from google.colab import drive\n",
        "drive.mount('/content/drive')"
      ],
      "execution_count": 9,
      "outputs": [
        {
          "output_type": "stream",
          "name": "stdout",
          "text": [
            "Mounted at /content/drive\n"
          ]
        }
      ]
    },
    {
      "cell_type": "code",
      "metadata": {
        "colab": {
          "base_uri": "https://localhost:8080/"
        },
        "id": "GTvt0DBgcG4P",
        "outputId": "e2f70530-35a0-44ab-98cb-88be153d52d8"
      },
      "source": [
        "# データを保存するディレクトリに移動\n",
        "%cd /content/drive/My Drive/Colab Notebooks"
      ],
      "execution_count": 10,
      "outputs": [
        {
          "output_type": "stream",
          "name": "stdout",
          "text": [
            "/content/drive/My Drive/Colab Notebooks\n"
          ]
        }
      ]
    },
    {
      "cell_type": "code",
      "metadata": {
        "colab": {
          "base_uri": "https://localhost:8080/"
        },
        "id": "9A1TwMTpfYUK",
        "outputId": "6677d90d-0bec-4b6e-da5d-1c2b6267c41f"
      },
      "source": [
        "# そのディレクトリで、ファイル一覧を表示\n",
        "%ls"
      ],
      "execution_count": 11,
      "outputs": [
        {
          "output_type": "stream",
          "name": "stdout",
          "text": [
            " \u001b[0m\u001b[01;34mtemp\u001b[0m/  'tw1127 (1).ipynb'   tw1127.ipynb   tw_all.csv   tw_text.csv\n"
          ]
        }
      ]
    },
    {
      "cell_type": "code",
      "metadata": {
        "id": "yA4PwPw1ZBi9"
      },
      "source": [
        "# Twitter全情報を保存\n",
        "file_name='tw_all.csv'\n",
        "df.to_csv(file_name,encoding='utf-8-sig',index=False)"
      ],
      "execution_count": 12,
      "outputs": []
    },
    {
      "cell_type": "code",
      "metadata": {
        "id": "XozTEIUYZMtl"
      },
      "source": [
        "# Twitter全情報を保存\n",
        "file_name='tw_text.csv'\n",
        "\n",
        "df = df['TW_TEXT']\n",
        "df.to_csv(file_name,encoding='utf-8-sig',index=False)"
      ],
      "execution_count": 13,
      "outputs": []
    },
    {
      "cell_type": "code",
      "metadata": {
        "id": "fRFF94J2Z_YV",
        "colab": {
          "base_uri": "https://localhost:8080/",
          "height": 35
        },
        "outputId": "ad1b41c4-4984-4cfd-fd87-0d4560480d15"
      },
      "source": [
        "# ファイル保存じた現在パスを表示\n",
        "%pwd"
      ],
      "execution_count": 14,
      "outputs": [
        {
          "output_type": "execute_result",
          "data": {
            "application/vnd.google.colaboratory.intrinsic+json": {
              "type": "string"
            },
            "text/plain": [
              "'/content/drive/My Drive/Colab Notebooks'"
            ]
          },
          "metadata": {},
          "execution_count": 14
        }
      ]
    },
    {
      "cell_type": "code",
      "metadata": {
        "colab": {
          "base_uri": "https://localhost:8080/"
        },
        "id": "btr6ZZU4gqzE",
        "outputId": "7ddbc539-0697-4be7-c56d-e6cbc7eb6148"
      },
      "source": [
        "# 保存ファイル名を確認 --> ★Googleドライブでファイルの中身をご確認ください！\n",
        "%ls"
      ],
      "execution_count": 15,
      "outputs": [
        {
          "output_type": "stream",
          "name": "stdout",
          "text": [
            " \u001b[0m\u001b[01;34mtemp\u001b[0m/  'tw1127 (1).ipynb'   tw1127.ipynb   tw_all.csv   tw_text.csv\n"
          ]
        }
      ]
    },
    {
      "cell_type": "code",
      "metadata": {
        "id": "74UGOCAHgryS"
      },
      "source": [
        ""
      ],
      "execution_count": null,
      "outputs": []
    }
  ]
}